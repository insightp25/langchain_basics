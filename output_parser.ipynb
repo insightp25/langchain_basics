{
 "cells": [
  {
   "cell_type": "code",
   "execution_count": 2,
   "id": "28ed3377",
   "metadata": {},
   "outputs": [],
   "source": [
    "from langchain_ollama import ChatOllama\n",
    "\n",
    "llm = ChatOllama(model=\"llama3.2:1b\")\n",
    "\n",
    "# llm.invoke(0)"
   ]
  },
  {
   "cell_type": "code",
   "execution_count": null,
   "id": "5285ea3d",
   "metadata": {},
   "outputs": [],
   "source": [
    "from langchain_core.prompts import PromptTemplate\n",
    "from langchain_core.output_parsers import StrOutputParser\n",
    "\n",
    "prompt_template = PromptTemplate(\n",
    "    template=\"what is the capital of {country}? return the name of the city only.\",\n",
    "    input_variables=[\"country\"],\n",
    ")\n",
    "\n",
    "# llm.invoke(prompt_template.invoke({\"country\": \"france\"}))\n",
    "prompt = prompt_template.invoke({\"country\": \"france\"})\n",
    "\n",
    "ai_message = llm.invoke(prompt)\n",
    "\n",
    "output_parser = StrOutputParser()\n",
    "parsed_answer = output_parser.invoke(ai_message)"
   ]
  },
  {
   "cell_type": "code",
   "execution_count": null,
   "id": "63094fb0",
   "metadata": {},
   "outputs": [
    {
     "data": {
      "text/plain": [
       "AIMessage(content='Paris.', additional_kwargs={}, response_metadata={'model': 'llama3.2:1b', 'created_at': '2025-10-25T03:20:47.609311Z', 'done': True, 'done_reason': 'stop', 'total_duration': 160666625, 'load_duration': 90163833, 'prompt_eval_count': 40, 'prompt_eval_duration': 55089000, 'eval_count': 3, 'eval_duration': 13848250, 'model_name': 'llama3.2:1b'}, id='run--67ab9803-0763-424f-a862-a5a6fed9b187-0', usage_metadata={'input_tokens': 40, 'output_tokens': 3, 'total_tokens': 43})"
      ]
     },
     "execution_count": 18,
     "metadata": {},
     "output_type": "execute_result"
    }
   ],
   "source": [
    "ai_message # "
   ]
  },
  {
   "cell_type": "code",
   "execution_count": 19,
   "id": "33587611",
   "metadata": {},
   "outputs": [
    {
     "data": {
      "text/plain": [
       "'Paris.'"
      ]
     },
     "execution_count": 19,
     "metadata": {},
     "output_type": "execute_result"
    }
   ],
   "source": [
    "parsed_answer"
   ]
  },
  {
   "cell_type": "code",
   "execution_count": 64,
   "id": "abd6e3cd",
   "metadata": {},
   "outputs": [],
   "source": [
    "from pydantic import BaseModel, Field\n",
    "\n",
    "class CountryDetail(BaseModel):\n",
    "    capital: str = Field(description=\"the capital of the country\")\n",
    "    population: int = Field(description=\"the population of the country not in millions but in exact number\")\n",
    "    language: str = Field(description=\"the language of the country\")\n",
    "    currency: str = Field(description=\"the currency of the country\")\n",
    "\n",
    "structured_llm = llm.with_structured_output(CountryDetail)"
   ]
  },
  {
   "cell_type": "code",
   "execution_count": 71,
   "id": "b5ae2e15",
   "metadata": {},
   "outputs": [],
   "source": [
    "from langchain_core.output_parsers import JsonOutputParser\n",
    "\n",
    "country_detail_prompt_template = PromptTemplate(\n",
    "    template=\"\"\"Give me following information on {country}:\n",
    "    - Capital\n",
    "    - Population\n",
    "    - Language\n",
    "    - Currency\n",
    "\n",
    "    return it in JSON format, and return the JSON dictionary only.\n",
    "    \"\"\",\n",
    "    input_variables=[\"country\"],\n",
    ")\n",
    "\n",
    "prompt = country_detail_prompt_template.invoke({\"country\": \"france\"})\n",
    "\n",
    "# json_ai_message = llm.invoke(prompt)\n",
    "\n",
    "# output_parser = JsonOutputParser()\n",
    "# parsed_answer = output_parser.invoke(json_ai_message)\n",
    "\n",
    "json_ai_message = structured_llm.invoke(prompt)"
   ]
  },
  {
   "cell_type": "code",
   "execution_count": 72,
   "id": "cffced06",
   "metadata": {},
   "outputs": [
    {
     "data": {
      "text/plain": [
       "CountryDetail(capital='Paris', population=67314161, language='French', currency='Euro')"
      ]
     },
     "execution_count": 72,
     "metadata": {},
     "output_type": "execute_result"
    }
   ],
   "source": [
    "(json_ai_message)"
   ]
  },
  {
   "cell_type": "code",
   "execution_count": 74,
   "id": "f727ab09",
   "metadata": {},
   "outputs": [
    {
     "data": {
      "text/plain": [
       "67314161"
      ]
     },
     "execution_count": 74,
     "metadata": {},
     "output_type": "execute_result"
    }
   ],
   "source": [
    "json_ai_message.population"
   ]
  },
  {
   "cell_type": "code",
   "execution_count": 77,
   "id": "330ac8ab",
   "metadata": {},
   "outputs": [
    {
     "data": {
      "text/plain": [
       "'Euro'"
      ]
     },
     "execution_count": 77,
     "metadata": {},
     "output_type": "execute_result"
    }
   ],
   "source": [
    "json_ai_message.model_dump()[\"currency\"]"
   ]
  }
 ],
 "metadata": {
  "kernelspec": {
   "display_name": "langchain-basics",
   "language": "python",
   "name": "python3"
  },
  "language_info": {
   "codemirror_mode": {
    "name": "ipython",
    "version": 3
   },
   "file_extension": ".py",
   "mimetype": "text/x-python",
   "name": "python",
   "nbconvert_exporter": "python",
   "pygments_lexer": "ipython3",
   "version": "3.11.14"
  }
 },
 "nbformat": 4,
 "nbformat_minor": 5
}
