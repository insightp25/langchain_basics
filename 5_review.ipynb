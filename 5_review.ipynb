{
 "cells": [
  {
   "cell_type": "code",
   "execution_count": 1,
   "id": "f222900a",
   "metadata": {},
   "outputs": [],
   "source": [
    "from langchain_ollama import ChatOllama\n",
    "\n",
    "llm = ChatOllama(model=\"llama3.2:1b\")"
   ]
  },
  {
   "cell_type": "code",
   "execution_count": 8,
   "id": "e141ede0",
   "metadata": {},
   "outputs": [],
   "source": [
    "# 음식이름 찾기\n",
    "\n",
    "from langchain_core.output_parsers import StrOutputParser\n",
    "from langchain_core.prompts import PromptTemplate\n",
    "\n",
    "food_prompt = PromptTemplate(\n",
    "    template=\"what is the most famous food in the {country}? please, return the name of the food only.\",\n",
    "    input_variables=[\"country\"]\n",
    ")\n",
    "\n",
    "food_chain = food_prompt | llm | StrOutputParser()"
   ]
  },
  {
   "cell_type": "code",
   "execution_count": 9,
   "id": "7b750dae",
   "metadata": {},
   "outputs": [
    {
     "data": {
      "text/plain": [
       "'Bibimbap.'"
      ]
     },
     "execution_count": 9,
     "metadata": {},
     "output_type": "execute_result"
    }
   ],
   "source": [
    "food_chain.invoke({\"country\":\"korea\"})"
   ]
  },
  {
   "cell_type": "code",
   "execution_count": 13,
   "id": "d1044249",
   "metadata": {},
   "outputs": [],
   "source": [
    "from langchain_core.prompts import ChatPromptTemplate\n",
    "\n",
    "recipe_prompt = ChatPromptTemplate([\n",
    "    (\"system\", \"provide the recipe of the food that the user wants. please provide the recipe only as a numbered list.\"),\n",
    "    (\"human\", \"can you give me the recipe for making {food}?\")\n",
    "\n",
    "])\n",
    "\n",
    "recipe_chain = recipe_prompt | llm | StrOutputParser()"
   ]
  },
  {
   "cell_type": "code",
   "execution_count": 14,
   "id": "e692cbe7",
   "metadata": {},
   "outputs": [
    {
     "data": {
      "text/plain": [
       "\"Here's a traditional Korean-style Bibimbap recipe:\\n\\n**Servings:** 4-6 people\\n\\n**Ingredients:**\\n\\n1. **Rice**: 2 cups of white or brown short-grain rice\\n2. **Gochujang sauce**: 2 tablespoons\\n3. **Soy sauce**: 2 tablespoons\\n4. **Sugar**: 1 tablespoon\\n5. **Salt**: to taste\\n6. **Vegetables**:\\n\\t* 1/2 cup of zucchini, sliced\\n\\t* 1/2 cup of carrots, peeled and grated\\n\\t* 1/2 cup of bean sprouts\\n\\t* 1/4 cup of chopped scallions (green onions)\\n7. **Meat**:\\n\\t* 1/2 cup of diced beef ( ribeye or sirloin), cooked according to your preference\\n8. **Egg**: 1 egg, fried sunny-side up and sliced\\n9. **Gochugaru (Korean chili flakes)**: 1 teaspoon\\n10. **Shichimi togarashi**: 1/2 teaspoon\\n\\n**Instructions:**\\n\\n11. Cook the rice according to package instructions using gochujang sauce, soy sauce, sugar, and salt.\\n12. In a separate pan, heat gochugaru and shichimi togarashi over medium heat. Add zucchini, carrots, bean sprouts, and scallions. Stir-fry for 2-3 minutes or until vegetables are tender-crisp.\\n13. To assemble Bibimbap:\\n14. Divide the cooked rice into individual plates.\\n15. Arrange the vegetable mixture on top of the rice.\\n16. Place a slice of fried egg on each plate.\\n17. Add diced beef on top of the egg.\\n18. Sprinkle gochugaru and shichimi togarashi over the beef.\\n19. Serve immediately and enjoy!\\n\\nNote: Traditionally, Bibimbap is served with a variety of vegetables, meats, and eggs, so feel free to customize your version according to your preferences!\""
      ]
     },
     "execution_count": 14,
     "metadata": {},
     "output_type": "execute_result"
    }
   ],
   "source": [
    "recipe_chain.invoke(\"bibimbap\")"
   ]
  },
  {
   "cell_type": "code",
   "execution_count": 15,
   "id": "a948096c",
   "metadata": {},
   "outputs": [],
   "source": [
    "final_chain = {\"food\" : food_chain} | recipe_chain"
   ]
  },
  {
   "cell_type": "code",
   "execution_count": 16,
   "id": "20e294d5",
   "metadata": {},
   "outputs": [
    {
     "data": {
      "text/plain": [
       "\"Here's a traditional recipe for making croissants:\\n\\n**Ingredients:**\\n\\nFor the dough:\\n\\n1. 1 cup warm milk (105°F to 115°F)\\n2. 1/4 cup granulated sugar\\n3. 2 teaspoons active dry yeast\\n4. 3 cups all-purpose flour\\n5. 1 teaspoon salt\\n6. 1/4 cup unsalted butter, melted\\n\\nFor the butter block:\\n\\n7. 1 cup (2 sticks) unsalted butter, softened\\n8. 1/2 cup confectioners' sugar\\n9. 1/2 teaspoon vanilla extract\\n\\n**Instructions:**\\n\\n**Step 1: Make the dough**\\n\\n10. In a small bowl, combine warm milk and sugar. Sprinkle yeast over the mixture and let it sit for 5-10 minutes, until frothy.\\n11. In a large mixing bowl, whisk together flour, salt, and melted butter. Add yeast mixture to the dry ingredients and mix until a shaggy dough forms.\\n12. Knead the dough for 10-12 minutes, until smooth and elastic.\\n\\n**Step 2: Rest the dough**\\n\\n14. Place the dough in a lightly oiled bowl, cover it with plastic wrap or a damp towel, and let it rest in a warm place for 1 hour, until doubled in size.\\n15. Preheat oven to 400°F (200°C). Line two baking sheets with parchment paper.\\n\\n**Step 3: Make the butter block**\\n\\n16. In a separate bowl, mix together softened butter, confectioners' sugar, and vanilla extract until crumbly.\\n17. Roll the butter mixture into a rectangle, about 1/2-inch thick.\\n\\n**Step 4: Laminate the dough**\\n\\n20. Roll out the rested dough to a large rectangle, about 1/4-inch thick.\\n21. Place the butter block on top of the dough, making sure it's centered and evenly spread.\\n22. Fold the dough over the butter block, like a letter (fold in thirds, then in half again).\\n23. Rotate the dough 90°, so the folded edge is facing you.\\n\\n**Step 5: Laminate again**\\n\\n26. Roll out the dough to a large rectangle, about 1/4-inch thick.\\n27. Repeat step 22 and 23, folding and rotating the dough three more times.\\n\\n**Step 6: Cut and shape croissants**\\n\\n30. After the final fold, roll out the dough to a large rectangle, about 1/4-inch thick.\\n31. Use a pastry cutter or a sharp knife to cut the dough into long, thin triangles.\\n32. Roll each triangle into a croissant shape, curving the ends towards each other.\\n\\n**Step 7: Proof and bake**\\n\\n34. Place the croissants on the prepared baking sheets, leaving about 1 inch of space between each pastry.\\n35. Cover with plastic wrap or a damp towel and let proof for 1 hour, until doubled in size.\\n36. Preheat oven to 400°F (200°C). Bake for 15-20 minutes, until golden brown.\\n\\n**Tips:**\\n\\n* Keep the butter cold and handle the dough gently to prevent it from becoming too sticky.\\n* Don't overwork the dough or the butter block will become tough.\\n* Let the croissants proof long enough to allow them to rise, but not so long that they get soggy.\\n\\nNote: Making croissants can be a bit tricky, and practice makes perfect. Don't be discouraged if your first batch doesn't turn out perfectly – with time and practice, you'll get the hang of it!\""
      ]
     },
     "execution_count": 16,
     "metadata": {},
     "output_type": "execute_result"
    }
   ],
   "source": [
    "final_chain.invoke({\"country\":\"france\"})"
   ]
  },
  {
   "cell_type": "code",
   "execution_count": null,
   "id": "b23a64c4",
   "metadata": {},
   "outputs": [],
   "source": []
  }
 ],
 "metadata": {
  "kernelspec": {
   "display_name": "langchain-basics",
   "language": "python",
   "name": "python3"
  },
  "language_info": {
   "codemirror_mode": {
    "name": "ipython",
    "version": 3
   },
   "file_extension": ".py",
   "mimetype": "text/x-python",
   "name": "python",
   "nbconvert_exporter": "python",
   "pygments_lexer": "ipython3",
   "version": "3.11.14"
  }
 },
 "nbformat": 4,
 "nbformat_minor": 5
}
