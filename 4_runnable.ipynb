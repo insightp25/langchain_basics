{
 "cells": [
  {
   "cell_type": "code",
   "execution_count": 1,
   "id": "28ed3377",
   "metadata": {},
   "outputs": [],
   "source": [
    "from langchain_ollama import ChatOllama\n",
    "\n",
    "llm = ChatOllama(model=\"llama3.2:1b\")\n",
    "\n",
    "# llm.invoke(0)"
   ]
  },
  {
   "cell_type": "code",
   "execution_count": 3,
   "id": "5285ea3d",
   "metadata": {},
   "outputs": [],
   "source": [
    "from langchain_core.prompts import PromptTemplate\n",
    "from langchain_core.output_parsers import StrOutputParser\n",
    "\n",
    "prompt_template = PromptTemplate(\n",
    "    template=\"what is the capital of {country}? return the name of the city only.\",\n",
    "    input_variables=[\"country\"],\n",
    ")\n",
    "\n",
    "# llm.invoke(prompt_template.invoke({\"country\": \"france\"}))\n",
    "prompt = prompt_template.invoke({\"country\": \"france\"})\n",
    "\n",
    "ai_message = llm.invoke(prompt)\n",
    "\n",
    "output_parser = StrOutputParser()\n",
    "parsed_answer = output_parser.invoke(ai_message)"
   ]
  },
  {
   "cell_type": "code",
   "execution_count": 6,
   "id": "31a1f011",
   "metadata": {},
   "outputs": [],
   "source": [
    "capital_chain = prompt_template | llm | output_parser"
   ]
  },
  {
   "cell_type": "code",
   "execution_count": 7,
   "id": "69f05c07",
   "metadata": {},
   "outputs": [
    {
     "data": {
      "text/plain": [
       "'Paris.'"
      ]
     },
     "execution_count": 7,
     "metadata": {},
     "output_type": "execute_result"
    }
   ],
   "source": [
    "capital_chain.invoke({\"country\" : \"france\"})"
   ]
  },
  {
   "cell_type": "code",
   "execution_count": 30,
   "id": "7b90cc26",
   "metadata": {},
   "outputs": [],
   "source": [
    "country_prompt = PromptTemplate(\n",
    "    template=\"\"\"guess the name of the country based on the following information:\n",
    "    {information}\n",
    "    return the name of the country only\n",
    "    \"\"\",\n",
    "    input_variables=[\"information\"],\n",
    ")\n",
    "country_chain = country_prompt | llm | output_parser\n",
    "# country_chain.invoke({\"information\": \"this country is very famous for its wine in europe\"})"
   ]
  },
  {
   "cell_type": "code",
   "execution_count": 28,
   "id": "3065a3ef",
   "metadata": {},
   "outputs": [],
   "source": [
    "final_chain = {\"country\":country_chain} | capital_chain"
   ]
  },
  {
   "cell_type": "code",
   "execution_count": 29,
   "id": "58e13524",
   "metadata": {},
   "outputs": [
    {
     "data": {
      "text/plain": [
       "'Rome'"
      ]
     },
     "execution_count": 29,
     "metadata": {},
     "output_type": "execute_result"
    }
   ],
   "source": [
    "final_chain.invoke({\"information\":\"this country is very famous for its wine in europe\"})"
   ]
  },
  {
   "cell_type": "code",
   "execution_count": 31,
   "id": "3f9d72a4",
   "metadata": {},
   "outputs": [],
   "source": [
    "from langchain_core.runnables import RunnablePassthrough\n",
    "\n",
    "final_chain = {\"information\": RunnablePassthrough()} | {\"country\":country_chain} | capital_chain"
   ]
  },
  {
   "cell_type": "code",
   "execution_count": 32,
   "id": "bab7cb5e",
   "metadata": {},
   "outputs": [
    {
     "data": {
      "text/plain": [
       "'Rome'"
      ]
     },
     "execution_count": 32,
     "metadata": {},
     "output_type": "execute_result"
    }
   ],
   "source": [
    "final_chain.invoke(\"this country is very famous for its wine in europe\")"
   ]
  },
  {
   "cell_type": "code",
   "execution_count": 33,
   "id": "31030c37",
   "metadata": {},
   "outputs": [],
   "source": [
    "country_prompt = PromptTemplate(\n",
    "    template=\"\"\"guess the name of the country in the {continent} based on the following information:\n",
    "    {information}\n",
    "    return the name of the country only\n",
    "    \"\"\",\n",
    "    input_variables=[\"information\", \"continent\"],\n",
    ")\n",
    "country_chain = country_prompt | llm | output_parser"
   ]
  },
  {
   "cell_type": "code",
   "execution_count": 34,
   "id": "26972ad9",
   "metadata": {},
   "outputs": [],
   "source": [
    "from langchain_core.runnables import RunnablePassthrough\n",
    "\n",
    "final_chain = {\"information\": RunnablePassthrough(), \"continent\": RunnablePassthrough()} | {\"country\":country_chain} | capital_chain"
   ]
  },
  {
   "cell_type": "code",
   "execution_count": 37,
   "id": "ed64b9ee",
   "metadata": {},
   "outputs": [
    {
     "data": {
      "text/plain": [
       "'Madrid'"
      ]
     },
     "execution_count": 37,
     "metadata": {},
     "output_type": "execute_result"
    }
   ],
   "source": [
    "final_chain.invoke({\"information\":\"this country is very famous for its wine in europe\", \"continent\":\"europe\"})"
   ]
  },
  {
   "cell_type": "code",
   "execution_count": null,
   "id": "7e3118a7",
   "metadata": {},
   "outputs": [],
   "source": []
  }
 ],
 "metadata": {
  "kernelspec": {
   "display_name": "langchain-basics",
   "language": "python",
   "name": "python3"
  },
  "language_info": {
   "codemirror_mode": {
    "name": "ipython",
    "version": 3
   },
   "file_extension": ".py",
   "mimetype": "text/x-python",
   "name": "python",
   "nbconvert_exporter": "python",
   "pygments_lexer": "ipython3",
   "version": "3.11.14"
  }
 },
 "nbformat": 4,
 "nbformat_minor": 5
}
